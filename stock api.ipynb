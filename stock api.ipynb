{
 "cells": [
  {
   "cell_type": "code",
   "execution_count": 37,
   "metadata": {},
   "outputs": [
    {
     "name": "stdout",
     "output_type": "stream",
     "text": [
      "[159.28, 157.4, 155.0, 155.85, 152.99, 152.59, 150.47, 148.5, 150.59, 152.87, 151.6, 153.83, 151.03, 145.91, 145.31, 147.41, 147.92, 146.71, 149.4, 148.91, 148.48, 152.55, 153.71, 155.33, 153.2, 153.85, 151.01, 150.64056268183, 151.688965882042, 154.414814202592, 151.499254826765, 154.265042316847, 150.590638719915, 145.208835625496, 144.070569293838, 142.782531076435, 145.708075244644, 143.7410711452, 141.644264744777, 142.313245834435, 140.895405316054, 137.660332583973, 135.064286564401, 135.004377810103, 135.73326765406, 134.55506215287, 133.207115181169, 133.286993520233, 130.531190822534, 129.952072864322, 129.422878868024, 124.829874371859, 126.167836551177, 124.879798333774, 129.732407431896, 129.412894075641, 125.848323194922, 129.832255355726, 131.659472361809, 131.862206889985, 135.073250572854, 131.932012187439, 132.001817484893, 134.135865149905, 136.120330034659, 142.811666404861, 145.06538029408, 144.088106129728, 141.764586943056, 142.253224025232, 140.547980330292, 142.512500844345, 146.22215379474, 147.398871666102, 147.897480933629, 147.618259743814, 140.777340593354, 143.818857125264, 147.698037226618, 150.649804090373, 149.762279594177, 147.598315373113, 150.869192168085, 150.300777603105, 148.376145830454, 149.622668999269, 147.867564377577, 149.283614697352, 146.461486243153, 134.494863822524, 139.111985639817, 138.533598889486, 137.995100880558, 138.263903111549, 144.386620595248, 149.981689255148, 152.659755926879, 155.049109091249, 144.157640916996, 148.687456291114]\n"
     ]
    }
   ],
   "source": [
    "import requests\n",
    "import json\n",
    "\n",
    "# Replace YOUR_API_KEY with your actual API key\n",
    "url = 'https://www.alphavantage.co/query?function=TIME_SERIES_DAILY_ADJUSTED&symbol=AAPL&apikey=7DAKX5A7OSW2STDL'\n",
    "\n",
    "response = requests.get(url)\n",
    "\n",
    "data = json.loads(response.text)\n",
    "\n",
    "# Extract the daily adjusted close prices\n",
    "daily_close_prices = []\n",
    "for date in data['Time Series (Daily)']:\n",
    "    daily_close_prices.append(float(data['Time Series (Daily)'][date]['5. adjusted close']))\n",
    "\n",
    "print(daily_close_prices)\n",
    "# Extract the daily adjusted close prices and dates\n",
    "daily_close_prices = []\n",
    "dates = []\n",
    "for date in data['Time Series (Daily)']:\n",
    "    dates.append(date)\n",
    "    daily_close_prices.append(float(data['Time Series (Daily)'][date]['5. adjusted close']))\n",
    "\n",
    "# Reverse the lists so they are in chronological order\n",
    "dates.reverse()\n",
    "daily_close_prices.reverse()"
   ]
  },
  {
   "cell_type": "code",
   "execution_count": 38,
   "metadata": {},
   "outputs": [],
   "source": [
    "import requests\n",
    "import json\n",
    "\n",
    "# Replace YOUR_API_KEY with your actual API key\n",
    "url = 'https://www.alphavantage.co/query?function=TIME_SERIES_DAILY_ADJUSTED&symbol=AAPL&apikey=7DAKX5A7OSW2STDL'\n",
    "\n",
    "response = requests.get(url)\n",
    "\n",
    "data = json.loads(response.text)\n",
    "\n",
    "# Extract the daily adjusted close prices\n",
    "daily_close_prices = []\n",
    "for date in data['Time Series (Daily)']:\n",
    "    daily_close_prices.append(float(data['Time Series (Daily)'][date]['5. adjusted close']))\n",
    "\n",
    "print(daily_close_prices)\n",
    "# Extract the daily adjusted close prices and dates\n",
    "daily_close_prices = []\n",
    "dates = []\n",
    "for date in data['Time Series (Daily)']:\n",
    "    dates.append(date)\n",
    "    daily_close_prices.append(float(data['Time Series (Daily)'][date]['5. adjusted close']))\n",
    "\n",
    "# Reverse the lists so they are in chronological order\n",
    "dates.reverse()\n",
    "daily_close_prices.reverse()\n",
    "\n",
    "# Extract the daily adjusted close prices and dates\n",
    "daily_close_prices = []\n",
    "dates = []\n",
    "for date in data['Time Series (Daily)']:\n",
    "    dates.append(date)\n",
    "    daily_close_prices.append(float(data['Time Series (Daily)'][date]['5. adjusted close']))\n",
    "\n",
    "# Reverse the lists so they are in chronological order\n",
    "dates.reverse()\n",
    "daily_close_prices.reverse()\n",
    "\n",
    "# Create a plot of the daily adjusted close prices\n"
   ]
  },
  {
   "cell_type": "code",
   "execution_count": 41,
   "metadata": {},
   "outputs": [
    {
     "name": "stdout",
     "output_type": "stream",
     "text": [
      "Next day's adjusted close price prediction: 150.75260061725893\n"
     ]
    }
   ],
   "source": [
    "import numpy as np\n",
    "from sklearn.linear_model import LinearRegression\n",
    "from sklearn.model_selection import train_test_split\n",
    "\n",
    "# Split the data into training and testing sets\n",
    "X_train, X_test, y_train, y_test = train_test_split(daily_close_prices[:-1], daily_close_prices[1:], test_size=0.2, random_state=42)\n",
    "\n",
    "# Train a Linear Regression model\n",
    "model = LinearRegression()\n",
    "X_train = np.array(X_train).reshape(-1, 1)\n",
    "y_train = np.array(y_train).reshape(-1, 1)\n",
    "model.fit(X_train, y_train)\n",
    "\n",
    "# Predict the next day's adjusted close price\n",
    "X_test = np.array(X_test).reshape(-1, 1)\n",
    "y_pred = model.predict(X_test)\n",
    "next_day_price = y_pred[-1][0]\n",
    "\n",
    "print(\"Next day's adjusted close price prediction:\", next_day_price)"
   ]
  },
  {
   "cell_type": "code",
   "execution_count": null,
   "metadata": {},
   "outputs": [],
   "source": []
  }
 ],
 "metadata": {
  "kernelspec": {
   "display_name": "Python 3",
   "language": "python",
   "name": "python3"
  },
  "language_info": {
   "codemirror_mode": {
    "name": "ipython",
    "version": 3
   },
   "file_extension": ".py",
   "mimetype": "text/x-python",
   "name": "python",
   "nbconvert_exporter": "python",
   "pygments_lexer": "ipython3",
   "version": "3.7.9"
  },
  "vscode": {
   "interpreter": {
    "hash": "e66e00cd49a3267e31726f9ce9c3f5bae4dfdb2992448a8d912167fb0313351f"
   }
  }
 },
 "nbformat": 4,
 "nbformat_minor": 4
}
